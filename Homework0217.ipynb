{
 "cells": [
  {
   "cell_type": "markdown",
   "id": "c07378a3-a4ad-44dc-8c1c-6250f2ab4424",
   "metadata": {},
   "source": [
    "#Some of the popular languages that Data Scientists use are:\n",
    "1. python\n",
    "2. R\n",
    "3. Java"
   ]
  },
  {
   "cell_type": "markdown",
   "id": "c2a0f9f4-a5c3-4f42-8a66-dabe68990302",
   "metadata": {},
   "source": [
    "#Some of the commonly used libraries used by Data Scientists include:\n",
    "1. Pandas\n",
    "2. NumPy\n",
    "3. Plotly"
   ]
  },
  {
   "cell_type": "markdown",
   "id": "2614e36d-a412-4ba3-b99a-e423025f864e",
   "metadata": {},
   "source": [
    "# Data Science Tools\n",
    "| Data Science Tools |\n",
    "| --|\n",
    "| Jupyter Notebook|\n",
    "| RStudio|\n",
    "| Anaconda|"
   ]
  },
  {
   "cell_type": "markdown",
   "id": "07628512-9a66-4847-9b09-9d81c262bcf7",
   "metadata": {},
   "source": [
    "### Below are a few examples of evaluating arithmetic expressions in Python"
   ]
  },
  {
   "cell_type": "code",
   "execution_count": 5,
   "id": "e154eed6-f64f-4405-81c9-07776673cb90",
   "metadata": {},
   "outputs": [
    {
     "data": {
      "text/plain": [
       "17"
      ]
     },
     "execution_count": 5,
     "metadata": {},
     "output_type": "execute_result"
    }
   ],
   "source": [
    "# This a simple arithmetic expression to mutiply then add integers\n",
    "(3*4)+5"
   ]
  },
  {
   "cell_type": "code",
   "execution_count": 6,
   "id": "c2c977bb-74bb-4927-86bc-540db035123b",
   "metadata": {},
   "outputs": [
    {
     "name": "stdout",
     "output_type": "stream",
     "text": [
      "3.3333333333333335\n"
     ]
    }
   ],
   "source": [
    "# This will convert 200 minutes to hours by diving by 60\n",
    "minutes = 200\n",
    "hours = minutes / 60\n",
    "print(hours)"
   ]
  },
  {
   "cell_type": "code",
   "execution_count": 7,
   "id": "34e11e53-9850-4eab-bc9b-f572e62efb20",
   "metadata": {},
   "outputs": [],
   "source": [
    "# In this notebook, Data Science Tools and Ecosystem are summarized."
   ]
  },
  {
   "cell_type": "markdown",
   "id": "98aec329-bebb-498c-a9e5-9351bfd80799",
   "metadata": {},
   "source": [
    "Objectives:\n",
    "+ Jupyter Notebook\n",
    "+ RStudio\n",
    "+ Pandas"
   ]
  },
  {
   "cell_type": "markdown",
   "id": "9d9c3233-8a84-4707-8ebd-5e86742edf9f",
   "metadata": {},
   "source": [
    "**Objectives:**\n",
    "- List popular languages for Data Science.\n",
    "- Identify commonly used libraries in Data Science.\n",
    "- Familiarize with open - source development environment tools for Data Science."
   ]
  },
  {
   "cell_type": "markdown",
   "id": "b8564726-cc18-4d4f-993e-9198a278f0bc",
   "metadata": {},
   "source": [
    "## Author\n",
    "Kris"
   ]
  },
  {
   "cell_type": "code",
   "execution_count": null,
   "id": "637311b4-2258-4d7b-b429-87670b87e6ad",
   "metadata": {},
   "outputs": [],
   "source": []
  }
 ],
 "metadata": {
  "kernelspec": {
   "display_name": "Python 3 (ipykernel)",
   "language": "python",
   "name": "python3"
  },
  "language_info": {
   "codemirror_mode": {
    "name": "ipython",
    "version": 3
   },
   "file_extension": ".py",
   "mimetype": "text/x-python",
   "name": "python",
   "nbconvert_exporter": "python",
   "pygments_lexer": "ipython3",
   "version": "3.12.9"
  }
 },
 "nbformat": 4,
 "nbformat_minor": 5
}
